{
 "cells": [
  {
   "cell_type": "code",
   "execution_count": 20,
   "metadata": {},
   "outputs": [],
   "source": [
    "import os\n",
    "from sqlalchemy import create_engine\n",
    "from sqlalchemy.orm.session import sessionmaker\n",
    "from sqlalchemy import inspect\n",
    "from sqlalchemy.sql import func\n",
    "import geoalchemy2\n",
    "from sqlalchemy import Table, MetaData\n",
    "from sqlalchemy.ext.declarative import declarative_base"
   ]
  },
  {
   "cell_type": "code",
   "execution_count": 16,
   "metadata": {},
   "outputs": [],
   "source": [
    "def get_env_variable(name):\n",
    "    try:\n",
    "        return os.environ[name]\n",
    "    except KeyError:\n",
    "        message = \"Expected environment variable '{}' not set.\".format(name)\n",
    "        raise Exception(message)\n",
    "\n",
    "POSTGRES_URL = get_env_variable(\"POSTGRES_URL\")\n",
    "POSTGRES_USER = get_env_variable(\"POSTGRES_USER\")\n",
    "POSTGRES_PW = get_env_variable(\"POSTGRES_PW\")\n",
    "POSTGRES_DB = get_env_variable(\"POSTGRES_DB\")\n",
    "\n",
    "DB_URL = 'postgresql+psycopg2://{user}:{pw}@{url}/{db}'.format(\n",
    "    user=POSTGRES_USER,\n",
    "    pw=POSTGRES_PW,\n",
    "    url=POSTGRES_URL,\n",
    "    db=POSTGRES_DB\n",
    ")"
   ]
  },
  {
   "cell_type": "code",
   "execution_count": 6,
   "metadata": {},
   "outputs": [],
   "source": [
    "engine = create_engine(DB_URL)"
   ]
  },
  {
   "cell_type": "markdown",
   "metadata": {},
   "source": [
    "## Make a query "
   ]
  },
  {
   "cell_type": "code",
   "execution_count": 7,
   "metadata": {},
   "outputs": [],
   "source": [
    "Session = sessionmaker(bind=engine)\n",
    "session = Session()"
   ]
  },
  {
   "cell_type": "code",
   "execution_count": 18,
   "metadata": {},
   "outputs": [],
   "source": [
    "# Pure SQL command\n",
    "res = session.query(\"\"\"SUM(length_km) FROM se4all.distribution_line_se4all;\"\"\")\n",
    "res.all()"
   ]
  },
  {
   "cell_type": "code",
   "execution_count": 25,
   "metadata": {},
   "outputs": [
    {
     "data": {
      "text/plain": [
       "[(Decimal('16409.268'))]"
      ]
     },
     "execution_count": 25,
     "metadata": {},
     "output_type": "execute_result"
    }
   ],
   "source": [
    "# Same command in SQlAlchemy\n",
    "metadata = MetaData(schema='se4all', bind=engine)\n",
    "\n",
    "Base = declarative_base(metadata=metadata)\n",
    "\n",
    "class DlinesSe4all(Base):\n",
    "    __table__ = Table('distribution_line_se4all', Base.metadata, autoload=True, autoload_with=engine)\n",
    "    \n",
    "res = session.query(func.sum(DlinesSe4all.length_km))\n",
    "res.all()"
   ]
  },
  {
   "cell_type": "markdown",
   "metadata": {},
   "source": [
    "## Look at the database"
   ]
  },
  {
   "cell_type": "code",
   "execution_count": 27,
   "metadata": {},
   "outputs": [
    {
     "data": {
      "text/plain": [
       "['geonode', 'import', 'information_schema', 'public', 'se4all']"
      ]
     },
     "execution_count": 27,
     "metadata": {},
     "output_type": "execute_result"
    }
   ],
   "source": [
    "inspector = inspect(engine)\n",
    "inspector.get_schema_names()"
   ]
  },
  {
   "cell_type": "code",
   "execution_count": 8,
   "metadata": {},
   "outputs": [
    {
     "data": {
      "text/plain": [
       "['data_version',\n",
       " 'database_log',\n",
       " 'cluster_offgrid',\n",
       " 'boundary_adm1',\n",
       " 'distribution_line_kaduna_electric',\n",
       " 'cluster_all',\n",
       " 'distribution_line_kedco',\n",
       " 'osm_building',\n",
       " 'distribution_line_se4all',\n",
       " 'boundary_adm1_status']"
      ]
     },
     "execution_count": 8,
     "metadata": {},
     "output_type": "execute_result"
    }
   ],
   "source": [
    "inspector.get_table_names('se4all')"
   ]
  },
  {
   "cell_type": "code",
   "execution_count": 28,
   "metadata": {},
   "outputs": [
    {
     "data": {
      "text/plain": [
       "[{'name': 'source',\n",
       "  'type': VARCHAR(length=50),\n",
       "  'nullable': True,\n",
       "  'default': None,\n",
       "  'autoincrement': False,\n",
       "  'comment': None},\n",
       " {'name': 'distribution_line_se4all_id',\n",
       "  'type': INTEGER(),\n",
       "  'nullable': False,\n",
       "  'default': \"nextval('se4all.distribution_line_se4all_distribution_line_se4all_id_seq'::regclass)\",\n",
       "  'autoincrement': True,\n",
       "  'comment': None},\n",
       " {'name': 'source_distribution_line_se4all_id',\n",
       "  'type': VARCHAR(length=50),\n",
       "  'nullable': True,\n",
       "  'default': None,\n",
       "  'autoincrement': False,\n",
       "  'comment': None},\n",
       " {'name': 'name',\n",
       "  'type': VARCHAR(length=500),\n",
       "  'nullable': True,\n",
       "  'default': None,\n",
       "  'autoincrement': False,\n",
       "  'comment': None},\n",
       " {'name': 'description',\n",
       "  'type': VARCHAR(length=500),\n",
       "  'nullable': True,\n",
       "  'default': None,\n",
       "  'autoincrement': False,\n",
       "  'comment': None},\n",
       " {'name': 'condition',\n",
       "  'type': VARCHAR(length=10),\n",
       "  'nullable': True,\n",
       "  'default': None,\n",
       "  'autoincrement': False,\n",
       "  'comment': None},\n",
       " {'name': 'voltage_kv',\n",
       "  'type': INTEGER(),\n",
       "  'nullable': True,\n",
       "  'default': None,\n",
       "  'autoincrement': False,\n",
       "  'comment': None},\n",
       " {'name': 'length_km',\n",
       "  'type': NUMERIC(precision=8, scale=3),\n",
       "  'nullable': True,\n",
       "  'default': None,\n",
       "  'autoincrement': False,\n",
       "  'comment': None},\n",
       " {'name': 'geom',\n",
       "  'type': Geometry(geometry_type='MULTILINESTRING', srid=3857),\n",
       "  'nullable': True,\n",
       "  'default': None,\n",
       "  'autoincrement': False,\n",
       "  'comment': None}]"
      ]
     },
     "execution_count": 28,
     "metadata": {},
     "output_type": "execute_result"
    }
   ],
   "source": [
    "inspector.get_columns('distribution_line_se4all', 'se4all')"
   ]
  }
 ],
 "metadata": {
  "kernelspec": {
   "display_name": "Python 3",
   "language": "python",
   "name": "python3"
  },
  "language_info": {
   "codemirror_mode": {
    "name": "ipython",
    "version": 3
   },
   "file_extension": ".py",
   "mimetype": "text/x-python",
   "name": "python",
   "nbconvert_exporter": "python",
   "pygments_lexer": "ipython3",
   "version": "3.6.8"
  }
 },
 "nbformat": 4,
 "nbformat_minor": 4
}
