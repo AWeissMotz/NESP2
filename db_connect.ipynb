{
 "cells": [
  {
   "cell_type": "code",
   "execution_count": 1,
   "metadata": {},
   "outputs": [],
   "source": [
    "import os\n",
    "from sqlalchemy import create_engine\n",
    "from sqlalchemy.orm.session import sessionmaker\n",
    "from sqlalchemy import inspect\n",
    "from sqlalchemy.sql import func\n",
    "import geoalchemy2\n",
    "from sqlalchemy import Table, MetaData\n",
    "from sqlalchemy.ext.declarative import declarative_base"
   ]
  },
  {
   "cell_type": "code",
   "execution_count": 2,
   "metadata": {},
   "outputs": [],
   "source": [
    "def get_env_variable(name):\n",
    "    try:\n",
    "        return os.environ[name]\n",
    "    except KeyError:\n",
    "        message = \"Expected environment variable '{}' not set.\".format(name)\n",
    "        raise Exception(message)\n",
    "\n",
    "POSTGRES_URL = get_env_variable(\"POSTGRES_URL\")\n",
    "POSTGRES_USER = get_env_variable(\"POSTGRES_USER\")\n",
    "POSTGRES_PW = get_env_variable(\"POSTGRES_PW\")\n",
    "POSTGRES_DB = get_env_variable(\"POSTGRES_DB\")\n",
    "\n",
    "DB_URL = 'postgresql+psycopg2://{user}:{pw}@{url}/{db}'.format(\n",
    "    user=POSTGRES_USER,\n",
    "    pw=POSTGRES_PW,\n",
    "    url=POSTGRES_URL,\n",
    "    db=POSTGRES_DB\n",
    ")"
   ]
  },
  {
   "cell_type": "code",
   "execution_count": 3,
   "metadata": {},
   "outputs": [],
   "source": [
    "engine = create_engine(DB_URL)\n",
    "sqlahelper.add_engine(engine, 'se4all_engine')"
   ]
  },
  {
   "cell_type": "markdown",
   "metadata": {},
   "source": [
    "## Make a query "
   ]
  },
  {
   "cell_type": "code",
   "execution_count": 4,
   "metadata": {},
   "outputs": [],
   "source": [
    "Session = sessionmaker(bind=engine)\n",
    "session = Session()"
   ]
  },
  {
   "cell_type": "code",
   "execution_count": 18,
   "metadata": {},
   "outputs": [],
   "source": [
    "# Pure SQL command\n",
    "res = session.query(\"\"\"SUM(length_km) FROM se4all.distribution_line_se4all;\"\"\")\n",
    "res.all()"
   ]
  },
  {
   "cell_type": "code",
   "execution_count": null,
   "metadata": {},
   "outputs": [],
   "source": [
    "res = session.query(\"\"\"schemaname as schema_name, matviewname as view_name, matviewowner as owner, ispopulated as is_populated, definition FROM pg_matviews;\"\"\")\n",
    "res.all()"
   ]
  },
  {
   "cell_type": "code",
   "execution_count": 37,
   "metadata": {},
   "outputs": [
    {
     "name": "stdout",
     "output_type": "stream",
     "text": [
      "[('se4all.cluster_offgrid_ng003_mv',), ('se4all.join_osm_building_adm1_buffer_mv',), ('se4all.cluster_offgrid_ng005_mv',), ('se4all.cluster_offgrid_ng011_mv',), ('se4all.join_distribution_line_all_buffer_adm1_mv',), ('se4all.cluster_offgrid_ng001_mv',), ('se4all.join_osm_building_distribution_line_all_buffer_mv',), ('se4all.join_cluster_all_adm1_mv',), ('se4all.cluster_offgrid_ng020_mv',), ('se4all.cluster_offgrid_ng034_mv',), ('se4all.cluster_offgrid_ng021_mv',), ('se4all.cluster_offgrid_ng016_mv',), ('se4all.cluster_offgrid_ng025_mv',), ('se4all.cluster_offgrid_ng029_mv',), ('se4all.cluster_offgrid_ng018_mv',), ('se4all.cluster_offgrid_ng006_mv',), ('se4all.cluster_offgrid_ng002_mv',), ('se4all.cluster_offgrid_ng004_mv',), ('se4all.cluster_offgrid_ng008_mv',), ('se4all.boundary_adm1_buffer_mv',), ('se4all.distribution_line_all_mv',), ('se4all.cluster_offgrid_ng014_mv',), ('se4all.cluster_offgrid_ng012_mv',), ('se4all.cluster_offgrid_ng023_mv',), ('se4all.cluster_offgrid_ng030_mv',), ('se4all.cluster_offgrid_ng017_mv',), ('se4all.cluster_offgrid_ng031_mv',), ('se4all.cluster_offgrid_ng036_mv',), ('se4all.cluster_offgrid_ng033_mv',), ('se4all.cluster_offgrid_ng037_mv',), ('se4all.join_cluster_offgrid_adm1_mv',), ('se4all.cluster_offgrid_ng019_mv',), ('se4all.cluster_offgrid_ng026_mv',), ('se4all.cluster_offgrid_ng013_mv',), ('se4all.cluster_offgrid_ng032_mv',), ('se4all.cluster_offgrid_ng009_mv',), ('se4all.cluster_offgrid_ng010_mv',), ('se4all.cluster_offgrid_ng024_mv',), ('se4all.cluster_offgrid_ng022_mv',), ('se4all.cluster_offgrid_ng015_mv',), ('se4all.cluster_offgrid_ng028_mv',), ('se4all.cluster_offgrid_ng035_mv',), ('se4all.cluster_offgrid_ng007_mv',)]\n"
     ]
    }
   ],
   "source": [
    "with engine.connect() as con:\n",
    "    \n",
    "    #rs = con.execute('SELECT * FROM se4all.distribution_line_all_mv;')\n",
    "    rs = con.execute(\"\"\"SELECT oid::regclass::text\n",
    "FROM   pg_class\n",
    "WHERE  relkind = 'm';\"\"\")\n",
    "    \n",
    "    data = rs.fetchall()\n",
    "    print(data)"
   ]
  },
  {
   "cell_type": "code",
   "execution_count": 56,
   "metadata": {},
   "outputs": [
    {
     "ename": "AttributeError",
     "evalue": "'list' object has no attribute 'geom'",
     "output_type": "error",
     "traceback": [
      "\u001b[0;31m---------------------------------------------------------------------------\u001b[0m",
      "\u001b[0;31mAttributeError\u001b[0m                            Traceback (most recent call last)",
      "\u001b[0;32m<ipython-input-56-8401b50bbe59>\u001b[0m in \u001b[0;36m<module>\u001b[0;34m\u001b[0m\n\u001b[1;32m     20\u001b[0m         \u001b[0mdata\u001b[0m \u001b[0;34m=\u001b[0m \u001b[0mrs\u001b[0m\u001b[0;34m.\u001b[0m\u001b[0mfetchall\u001b[0m\u001b[0;34m(\u001b[0m\u001b[0;34m)\u001b[0m\u001b[0;34m\u001b[0m\u001b[0;34m\u001b[0m\u001b[0m\n\u001b[1;32m     21\u001b[0m     \u001b[0;32mreturn\u001b[0m \u001b[0mdata\u001b[0m\u001b[0;34m.\u001b[0m\u001b[0mgeom\u001b[0m\u001b[0;34m\u001b[0m\u001b[0;34m\u001b[0m\u001b[0m\n\u001b[0;32m---> 22\u001b[0;31m \u001b[0mselect_materialized_view\u001b[0m\u001b[0;34m(\u001b[0m\u001b[0mengine\u001b[0m\u001b[0;34m,\u001b[0m \u001b[0;34m\"se4all.distribution_line_all_mv\"\u001b[0m\u001b[0;34m,\u001b[0m \u001b[0mlimit\u001b[0m\u001b[0;34m=\u001b[0m\u001b[0;36m10\u001b[0m\u001b[0;34m)\u001b[0m\u001b[0;34m\u001b[0m\u001b[0;34m\u001b[0m\u001b[0m\n\u001b[0m",
      "\u001b[0;32m<ipython-input-56-8401b50bbe59>\u001b[0m in \u001b[0;36mselect_materialized_view\u001b[0;34m(engine, view_name, schema, limit)\u001b[0m\n\u001b[1;32m     19\u001b[0m         \u001b[0mrs\u001b[0m \u001b[0;34m=\u001b[0m \u001b[0mcon\u001b[0m\u001b[0;34m.\u001b[0m\u001b[0mexecute\u001b[0m\u001b[0;34m(\u001b[0m\u001b[0;34m'SELECT * FROM {}{};'\u001b[0m\u001b[0;34m.\u001b[0m\u001b[0mformat\u001b[0m\u001b[0;34m(\u001b[0m\u001b[0mview_name\u001b[0m\u001b[0;34m,\u001b[0m \u001b[0mlimit\u001b[0m\u001b[0;34m)\u001b[0m\u001b[0;34m)\u001b[0m\u001b[0;34m\u001b[0m\u001b[0;34m\u001b[0m\u001b[0m\n\u001b[1;32m     20\u001b[0m         \u001b[0mdata\u001b[0m \u001b[0;34m=\u001b[0m \u001b[0mrs\u001b[0m\u001b[0;34m.\u001b[0m\u001b[0mfetchall\u001b[0m\u001b[0;34m(\u001b[0m\u001b[0;34m)\u001b[0m\u001b[0;34m\u001b[0m\u001b[0;34m\u001b[0m\u001b[0m\n\u001b[0;32m---> 21\u001b[0;31m     \u001b[0;32mreturn\u001b[0m \u001b[0mdata\u001b[0m\u001b[0;34m.\u001b[0m\u001b[0mgeom\u001b[0m\u001b[0;34m\u001b[0m\u001b[0;34m\u001b[0m\u001b[0m\n\u001b[0m\u001b[1;32m     22\u001b[0m \u001b[0mselect_materialized_view\u001b[0m\u001b[0;34m(\u001b[0m\u001b[0mengine\u001b[0m\u001b[0;34m,\u001b[0m \u001b[0;34m\"se4all.distribution_line_all_mv\"\u001b[0m\u001b[0;34m,\u001b[0m \u001b[0mlimit\u001b[0m\u001b[0;34m=\u001b[0m\u001b[0;36m10\u001b[0m\u001b[0;34m)\u001b[0m\u001b[0;34m\u001b[0m\u001b[0;34m\u001b[0m\u001b[0m\n",
      "\u001b[0;31mAttributeError\u001b[0m: 'list' object has no attribute 'geom'"
     ]
    }
   ],
   "source": [
    "def list_materialized_view(engine):\n",
    "    views = []\n",
    "    with engine.connect() as con:\n",
    "    \n",
    "        rs = con.execute(\"\"\"SELECT oid::regclass::text FROM   pg_class WHERE  relkind = 'm';\"\"\")\n",
    "    \n",
    "        for r in rs.fetchall():\n",
    "            views.append(r[0])\n",
    "    return views\n",
    "\n",
    "def select_materialized_view(engine, view_name, schema=None, limit=None):\n",
    "    if schema is not None:\n",
    "        view_name = \"{}.{}\".format(schema, view_name)\n",
    "    if limit is None:\n",
    "        limit = \"\"\n",
    "    else:\n",
    "        limit = \" LIMIT {}\".format(limit)\n",
    "    with engine.connect() as con:\n",
    "        rs = con.execute('SELECT * FROM {}{};'.format(view_name, limit))\n",
    "        data = rs.fetchall()\n",
    "    return data.geom\n",
    "select_materialized_view(engine, \"se4all.distribution_line_all_mv\", limit=10)"
   ]
  },
  {
   "cell_type": "code",
   "execution_count": null,
   "metadata": {},
   "outputs": [],
   "source": [
    "with engine.connect() as con:\n",
    "    rs.con.execute(\"\"\"SELECT a.attname,\n",
    "       pg_catalog.format_type(a.atttypid, a.atttypmod),\n",
    "       a.attnotnull\n",
    "FROM pg_attribute a\n",
    "  JOIN pg_class t on a.attrelid = t.oid\n",
    "  JOIN pg_namespace s on t.relnamespace = s.oid\n",
    "WHERE a.attnum > 0 \n",
    "  AND NOT a.attisdropped\n",
    "  AND t.relname = 'mv_name' --<< replace with the name of the MV \n",
    "  AND s.nspname = 'public' --<< change to the schema your MV is in \n",
    "ORDER BY a.attnum;\"\"\")\n",
    "    print(rs.fetchall())"
   ]
  },
  {
   "cell_type": "code",
   "execution_count": 25,
   "metadata": {},
   "outputs": [
    {
     "data": {
      "text/plain": [
       "[(Decimal('16409.268'))]"
      ]
     },
     "execution_count": 25,
     "metadata": {},
     "output_type": "execute_result"
    }
   ],
   "source": [
    "# Same command in SQlAlchemy\n",
    "metadata = MetaData(schema='se4all', bind=engine)\n",
    "\n",
    "Base = declarative_base(metadata=metadata)\n",
    "\n",
    "class DlinesSe4all(Base):\n",
    "    __table__ = Table('distribution_line_se4all', Base.metadata, autoload=True, autoload_with=engine)\n",
    "    \n",
    "res = session.query(func.sum(DlinesSe4all.length_km))\n",
    "res.all()"
   ]
  },
  {
   "cell_type": "markdown",
   "metadata": {},
   "source": [
    "## Look at the database"
   ]
  },
  {
   "cell_type": "code",
   "execution_count": 5,
   "metadata": {},
   "outputs": [
    {
     "data": {
      "text/plain": [
       "['geonode', 'import', 'information_schema', 'public', 'se4all']"
      ]
     },
     "execution_count": 5,
     "metadata": {},
     "output_type": "execute_result"
    }
   ],
   "source": [
    "inspector = inspect(engine)\n",
    "inspector.get_schema_names()"
   ]
  },
  {
   "cell_type": "code",
   "execution_count": 6,
   "metadata": {},
   "outputs": [
    {
     "data": {
      "text/plain": [
       "['data_version',\n",
       " 'database_log',\n",
       " 'boundary_adm1',\n",
       " 'distribution_line_kaduna_electric',\n",
       " 'cluster_all',\n",
       " 'cluster_offgrid',\n",
       " 'distribution_line_kedco',\n",
       " 'osm_building',\n",
       " 'distribution_line_se4all',\n",
       " 'boundary_adm1_status']"
      ]
     },
     "execution_count": 6,
     "metadata": {},
     "output_type": "execute_result"
    }
   ],
   "source": [
    "inspector.get_table_names('se4all')"
   ]
  },
  {
   "cell_type": "code",
   "execution_count": null,
   "metadata": {},
   "outputs": [],
   "source": [
    "inspector.get_columns('database_log', 'se4all')"
   ]
  },
  {
   "cell_type": "code",
   "execution_count": 9,
   "metadata": {},
   "outputs": [
    {
     "data": {
      "text/plain": [
       "['pg_stat_statements',\n",
       " 'pg_buffercache',\n",
       " 'geography_columns',\n",
       " 'geometry_columns',\n",
       " 'raster_columns',\n",
       " 'raster_overviews']"
      ]
     },
     "execution_count": 9,
     "metadata": {},
     "output_type": "execute_result"
    }
   ],
   "source": [
    "inspector.get_view_names()"
   ]
  }
 ],
 "metadata": {
  "kernelspec": {
   "display_name": "Python 3",
   "language": "python",
   "name": "python3"
  },
  "language_info": {
   "codemirror_mode": {
    "name": "ipython",
    "version": 3
   },
   "file_extension": ".py",
   "mimetype": "text/x-python",
   "name": "python",
   "nbconvert_exporter": "python",
   "pygments_lexer": "ipython3",
   "version": "3.6.8"
  }
 },
 "nbformat": 4,
 "nbformat_minor": 4
}
